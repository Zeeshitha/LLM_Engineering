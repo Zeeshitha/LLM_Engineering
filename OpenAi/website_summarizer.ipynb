{
 "cells": [
  {
   "cell_type": "code",
   "execution_count": 3,
   "id": "4aa18dcd-27c8-47e2-a40c-a632bf4986c7",
   "metadata": {},
   "outputs": [
    {
     "name": "stdout",
     "output_type": "stream",
     "text": [
      "API key found!\n"
     ]
    },
    {
     "data": {
      "text/markdown": [
       "### Website Summary:\n",
       "President Trump is currently reviewing US aid contributions and has issued repeated warnings about taxing imports from neighboring countries. Concerns have arisen following recent violent incidents leading to injuries and arrests in Germany, while Trump's criticism of a UK-led summit aimed at boosting Ukrainian defenses has sparked frustration among American voters. Meanwhile, King Charles has played a diplomatic role amidst the tension, and distinct societal trends are highlighted, such as young women in Kenya using TikTok to sell sexual content. In sports, Nottingham Forest has advanced in the FA Cup, and discussions arise around the Champions Trophy and emerging NFL prospects."
      ],
      "text/plain": [
       "<IPython.core.display.Markdown object>"
      ]
     },
     "metadata": {},
     "output_type": "display_data"
    }
   ],
   "source": [
    "# Imports\n",
    "import os\n",
    "import requests\n",
    "from bs4 import BeautifulSoup\n",
    "from dotenv import load_dotenv\n",
    "from openai import OpenAI\n",
    "from IPython.display import Markdown, display\n",
    "\n",
    "# Load API Key from .env file\n",
    "load_dotenv(override=True)\n",
    "api_key = os.getenv('OPENAI_API_KEY')\n",
    "\n",
    "if not api_key:\n",
    "    print(\"No API key found! Please add it to your .env file.\")\n",
    "else:\n",
    "    print(\"API key found!\")\n",
    "\n",
    "# OpenAI Client\n",
    "openai = OpenAI(api_key=api_key)\n",
    "\n",
    "# Function to fetch website content\n",
    "def fetch_website_content(url):\n",
    "    headers = {\"User-Agent\": \"Mozilla/5.0\"}\n",
    "    response = requests.get(url, headers=headers)\n",
    "    if response.status_code == 200:\n",
    "        soup = BeautifulSoup(response.text, \"html.parser\")\n",
    "        return \" \".join([p.text for p in soup.find_all(\"p\")])\n",
    "    else:\n",
    "        return None\n",
    "\n",
    "# Function to summarize text using OpenAI\n",
    "def summarize_text(text):\n",
    "    system_prompt = \"You are an AI assistant that summarizes website content into a short, concise paragraph.\"\n",
    "    \n",
    "    messages = [\n",
    "        {\"role\": \"system\", \"content\": system_prompt},\n",
    "        {\"role\": \"user\", \"content\": f\"Summarize the following website content:\\n\\n{text[:4000]}\"}  # Limiting input to 4000 chars\n",
    "    ]\n",
    "\n",
    "    response = openai.chat.completions.create(model=\"gpt-4o-mini\", messages=messages)\n",
    "    return response.choices[0].message.content\n",
    "\n",
    "# URL to summarize\n",
    "url = \"https://www.bbc.com/news\"  # Change this to any website URL\n",
    "content = fetch_website_content(url)\n",
    "\n",
    "if content:\n",
    "    summary = summarize_text(content)\n",
    "    display(Markdown(f\"### Website Summary:\\n{summary}\"))\n",
    "else:\n",
    "    print(\"Failed to fetch website content.\")\n"
   ]
  },
  {
   "cell_type": "code",
   "execution_count": null,
   "id": "3e982da3-236a-416b-bd28-270ba8b1eb69",
   "metadata": {},
   "outputs": [],
   "source": []
  }
 ],
 "metadata": {
  "kernelspec": {
   "display_name": "Python 3 (ipykernel)",
   "language": "python",
   "name": "python3"
  },
  "language_info": {
   "codemirror_mode": {
    "name": "ipython",
    "version": 3
   },
   "file_extension": ".py",
   "mimetype": "text/x-python",
   "name": "python",
   "nbconvert_exporter": "python",
   "pygments_lexer": "ipython3",
   "version": "3.11.11"
  }
 },
 "nbformat": 4,
 "nbformat_minor": 5
}

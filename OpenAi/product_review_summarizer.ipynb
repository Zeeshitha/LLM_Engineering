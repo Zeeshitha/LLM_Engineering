{
 "cells": [
  {
   "cell_type": "code",
   "execution_count": 1,
   "id": "37092fcc-d52a-4cf7-b9d1-876f4d6ca97f",
   "metadata": {},
   "outputs": [
    {
     "name": "stdout",
     "output_type": "stream",
     "text": [
      "API key found!\n"
     ]
    },
    {
     "data": {
      "text/markdown": [
       "### AI Summary of Product Reviews:\n",
       "The product reviews highlight a phone praised for its exceptional camera and battery life, while a laptop receives criticism for being slow and overpriced. Headphones are noted for their excellent noise cancellation, though they are considered heavy. Lastly, a smartwatch is admired for its appearance but is criticized for having a short battery life of just one day."
      ],
      "text/plain": [
       "<IPython.core.display.Markdown object>"
      ]
     },
     "metadata": {},
     "output_type": "display_data"
    }
   ],
   "source": [
    "# Imports\n",
    "import os\n",
    "import requests\n",
    "from dotenv import load_dotenv\n",
    "from openai import OpenAI\n",
    "from IPython.display import Markdown, display\n",
    "\n",
    "# Load API Key from .env file\n",
    "load_dotenv(override=True)\n",
    "api_key = os.getenv('OPENAI_API_KEY')\n",
    "\n",
    "if not api_key:\n",
    "    print(\"No API key found! Please add it to your .env file.\")\n",
    "else:\n",
    "    print(\"API key found!\")\n",
    "\n",
    "# OpenAI Client\n",
    "openai = OpenAI(api_key=api_key)\n",
    "\n",
    "# Simulated Product Reviews\n",
    "reviews = [\n",
    "    \"This phone has an amazing camera and battery life!\",\n",
    "    \"The laptop is too slow and overpriced. Not recommended.\",\n",
    "    \"Great noise cancellation in these headphones, but a bit heavy.\",\n",
    "    \"The smartwatch looks great, but the battery lasts only one day.\"\n",
    "]\n",
    "\n",
    "# System prompt\n",
    "system_prompt = \"You are an AI assistant that summarizes customer reviews into a concise description.\"\n",
    "\n",
    "# Function to create a user prompt\n",
    "def user_prompt_for(reviews):\n",
    "    return f\"Summarize the following product reviews in a short paragraph:\\n\\n\" + \"\\n\".join(reviews)\n",
    "\n",
    "# Function to get AI-generated summary\n",
    "def summarize_reviews(reviews):\n",
    "    messages = [\n",
    "        {\"role\": \"system\", \"content\": system_prompt},\n",
    "        {\"role\": \"user\", \"content\": user_prompt_for(reviews)}\n",
    "    ]\n",
    "    response = openai.chat.completions.create(model=\"gpt-4o-mini\", messages=messages)\n",
    "    return response.choices[0].message.content\n",
    "\n",
    "# Display the summary\n",
    "summary = summarize_reviews(reviews)\n",
    "display(Markdown(f\"### AI Summary of Product Reviews:\\n{summary}\"))\n"
   ]
  },
  {
   "cell_type": "code",
   "execution_count": null,
   "id": "a1ea7ffb-9da7-49ec-be35-8346e7b02f2f",
   "metadata": {},
   "outputs": [],
   "source": []
  }
 ],
 "metadata": {
  "kernelspec": {
   "display_name": "Python 3 (ipykernel)",
   "language": "python",
   "name": "python3"
  },
  "language_info": {
   "codemirror_mode": {
    "name": "ipython",
    "version": 3
   },
   "file_extension": ".py",
   "mimetype": "text/x-python",
   "name": "python",
   "nbconvert_exporter": "python",
   "pygments_lexer": "ipython3",
   "version": "3.11.11"
  }
 },
 "nbformat": 4,
 "nbformat_minor": 5
}

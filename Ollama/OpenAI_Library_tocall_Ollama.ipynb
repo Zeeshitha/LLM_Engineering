{
 "cells": [
  {
   "cell_type": "code",
   "execution_count": 1,
   "id": "587237d8-d839-4abf-8b77-068ac99b9fb7",
   "metadata": {},
   "outputs": [
    {
     "name": "stdout",
     "output_type": "stream",
     "text": [
      "Generative AI has numerous business applications across various industries. Some examples include:\n",
      "\n",
      "1. **Content Generation**: Companies can use generative AI to generate high-quality content, such as articles, social media posts, and product descriptions, at scale and with minimal effort.\n",
      "2. **Personalization**: Generative AI-powered systems can analyze customer behavior and preferences, generating personalized content, recommendations, and offers that improve customer engagement and loyalty.\n",
      "3. **Marketing and Advertising**: Generative AI allows for the creation of targeted ad campaigns, product placements, and sponsorships, increasing the reach and effectiveness of marketing efforts.\n",
      "4. **Product Design and Development**: AI-powered design tools can generate concept sketches, product prototypes, and even functional products, reducing costs and speeding up development.\n",
      "5. **Image and Video Synthesis**: Generative AI can create realistic images and videos that mimic real-world data, which is useful for applications like video production, animation, and gaming.\n",
      "6. **Predictive Maintenance and Quality Control**: Generative AI algorithms can analyze sensor data from IoT devices to predict equipment failures, optimizing maintenance schedules and reducing downtime.\n",
      "7. **Supply Chain Optimization**: AI-powered systems can generate optimal logistics plans, predict demand fluctuations, and forecast manufacturing lead times, improving supply chain efficiency.\n",
      "8. **Chatbots and Virtual Assistants**: Generative AI allows for the creation of sophisticated chatbots and virtual assistants that provide personalized customer support and answer complex queries.\n",
      "9. **Sales and Lead Generation**: AI-powered systems can analyze customer data to generate new sales leads, predict conversion rates, and suggest personalized follow-up communications.\n",
      "10. **Network Analysis and Optimization**: Generative AI algorithms can analyze network traffic patterns to optimize network performance, reduce latency, and improve overall network efficiency.\n",
      "11. **Music Composition and Sound Design**: AI-powered music composition tools can generate original music tracks, sound effects, and voiceovers, opening new creative possibilities for audio engineers and composers.\n",
      "12. **Medical Imaging Analysis**: Generative AI algorithms can help analyze medical images, diagnose diseases earlier, and aid in personalized cancer treatment planning.\n",
      "13. **Recommendation Systems**: Generative AI-powered systems can create customized recommendation engines for e-commerce sites, streaming platforms, and social media applications.\n",
      "14. **Customer Service Automation**: AI-predictive software can forecast customer behavior to automate support processes, reducing response times and costs associated with manual response teams.\n",
      "15. **Risk Assessment and Decision Analysis**: Generative AI algorithms can analyze a vast amount of data to identify potential risks and opportunities, helping organizations make more informed business decisions.\n",
      "\n",
      "These are just a few examples of the many exciting applications of generative AI across various industries and domains. As the technology continues to evolve, we can expect even more innovative solutions emerging in the future.\n"
     ]
    }
   ],
   "source": [
    "# There's actually an alternative approach that some people might prefer\n",
    "# You can use the OpenAI client python library to call Ollama:\n",
    "\n",
    "from openai import OpenAI\n",
    "ollama_via_openai = OpenAI(base_url='http://localhost:11434/v1', api_key='ollama')\n",
    "MODEL = \"llama3.2\"\n",
    "# Create a messages list using the same format that we used for OpenAI\n",
    "\n",
    "messages = [\n",
    "    {\"role\": \"user\", \"content\": \"Describe some of the business applications of Generative AI\"}\n",
    "]\n",
    "response = ollama_via_openai.chat.completions.create(\n",
    "    model=MODEL,\n",
    "    messages=messages\n",
    ")\n",
    "\n",
    "print(response.choices[0].message.content)"
   ]
  },
  {
   "cell_type": "code",
   "execution_count": null,
   "id": "19dd0358-7778-4ff3-ab1f-d0056d0ba7b4",
   "metadata": {},
   "outputs": [],
   "source": []
  }
 ],
 "metadata": {
  "kernelspec": {
   "display_name": "Python 3 (ipykernel)",
   "language": "python",
   "name": "python3"
  },
  "language_info": {
   "codemirror_mode": {
    "name": "ipython",
    "version": 3
   },
   "file_extension": ".py",
   "mimetype": "text/x-python",
   "name": "python",
   "nbconvert_exporter": "python",
   "pygments_lexer": "ipython3",
   "version": "3.11.11"
  }
 },
 "nbformat": 4,
 "nbformat_minor": 5
}

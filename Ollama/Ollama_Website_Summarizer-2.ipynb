{
 "cells": [
  {
   "cell_type": "code",
   "execution_count": 7,
   "id": "58059d09-699a-40f6-9faa-98e8bc1b5d65",
   "metadata": {},
   "outputs": [],
   "source": [
    "# imports\n",
    "\n",
    "import requests\n",
    "from bs4 import BeautifulSoup\n",
    "from IPython.display import Markdown, display\n",
    "import ollama"
   ]
  },
  {
   "cell_type": "code",
   "execution_count": 8,
   "id": "6cea7ce8-1bf3-4011-a0b5-41c62e210e62",
   "metadata": {},
   "outputs": [],
   "source": [
    "# Constants\n",
    "\n",
    "MODEL = \"llama3.2\""
   ]
  },
  {
   "cell_type": "code",
   "execution_count": 9,
   "id": "b734e81e-03d4-4142-8353-a34aecffbc7b",
   "metadata": {},
   "outputs": [],
   "source": [
    "# A class to represent a Webpage\n",
    "\n",
    "class Website:\n",
    "    \"\"\"\n",
    "    A utility class to represent a Website that we have scraped\n",
    "    \"\"\"\n",
    "    url: str\n",
    "    title: str\n",
    "    text: str\n",
    "\n",
    "    def __init__(self, url):\n",
    "        \"\"\"\n",
    "        Create this Website object from the given url using the BeautifulSoup library\n",
    "        \"\"\"\n",
    "        self.url = url\n",
    "        response = requests.get(url)\n",
    "        soup = BeautifulSoup(response.content, 'html.parser')\n",
    "        self.title = soup.title.string if soup.title else \"No title found\"\n",
    "        for irrelevant in soup.body([\"script\", \"style\", \"img\", \"input\"]):\n",
    "            irrelevant.decompose()\n",
    "        self.text = soup.body.get_text(separator=\"\\n\", strip=True)"
   ]
  },
  {
   "cell_type": "code",
   "execution_count": 10,
   "id": "4c311c7c-84c6-46a9-acc1-c2d1e3573634",
   "metadata": {},
   "outputs": [
    {
     "name": "stdout",
     "output_type": "stream",
     "text": [
      "Azure AI Foundry documentation | Microsoft Learn\n",
      "Skip to main content\n",
      "This browser is no longer supported.\n",
      "Upgrade to Microsoft Edge to take advantage of the latest features, security updates, and technical support.\n",
      "Download Microsoft Edge\n",
      "More info about Internet Explorer and Microsoft Edge\n",
      "Table of contents\n",
      "Exit focus mode\n",
      "Read in English\n",
      "Table of contents\n",
      "Read in English\n",
      "Edit\n",
      "Share via\n",
      "Facebook\n",
      "x.com\n",
      "LinkedIn\n",
      "Email\n",
      "Table of contents\n",
      "Azure AI Foundry documentation\n",
      "Safely design, customize, and manage AI applications and agents at scale.\n",
      "About Azure AI Foundry\n",
      "Overview\n",
      "What is Azure AI Foundry?\n",
      "Azure OpenAI Service in Azure AI Foundry\n",
      "Retrieval Augmented Generation (RAG)\n",
      "Evaluation and monitoring metrics for generative AI\n",
      "Model deployment options\n",
      "Get started\n",
      "Quickstart\n",
      "Build a chat app in the playground\n",
      "Build a chat app using the Azure AI SDK\n",
      "How-To Guide\n",
      "Select and deploy models from the catalog\n",
      "Compare benchmarks across models and datasets\n",
      "What is Azure AI Agent service?\n",
      "Azure AI Foundry SDK\n",
      "How-To Guide\n",
      "Get started with the Azure AI Foundry SDKs\n",
      "Work with Azure AI Foundry projects in VS Code\n",
      "Tutorial\n",
      "Build a custom chat app with the Azure AI SDK\n",
      "Deploy an enterprise chat web app\n",
      "Reference\n",
      "Azure AI Foundry SDK\n",
      "Azure OpenAI Service Reference\n",
      "Explore more AI resources\n",
      "Training\n",
      "Azure AI Training\n",
      "Vector search in Azure AI Search\n",
      "Concept\n",
      "Azure Machine Learning\n",
      "Semantic Kernel\n",
      "Your Privacy Choices\n",
      "Theme\n",
      "Light\n",
      "Dark\n",
      "High contrast\n",
      "Previous Versions\n",
      "Blog\n",
      "Contribute\n",
      "Privacy\n",
      "Terms of Use\n",
      "Trademarks\n",
      "© Microsoft 2025\n",
      "Your Privacy Choices\n",
      "Theme\n",
      "Light\n",
      "Dark\n",
      "High contrast\n",
      "Previous Versions\n",
      "Blog\n",
      "Contribute\n",
      "Privacy\n",
      "Terms of Use\n",
      "Trademarks\n",
      "© Microsoft 2025\n"
     ]
    }
   ],
   "source": [
    "# Let's try one out\n",
    "\n",
    "ed = Website(\"https://learn.microsoft.com/en-us/azure/ai-foundry/\")\n",
    "print(ed.title)\n",
    "print(ed.text)"
   ]
  },
  {
   "cell_type": "code",
   "execution_count": 11,
   "id": "faea0439-00a3-4b6f-8a70-e71fe1619f9a",
   "metadata": {},
   "outputs": [],
   "source": [
    "# Define our system prompt - you can experiment with this later, changing the last sentence to 'Respond in markdown in Spanish.\"\n",
    "\n",
    "system_prompt = \"You are an assistant that analyzes the contents of a website \\\n",
    "and provides a short summary, ignoring text that might be navigation related. \\\n",
    "Respond in markdown.\""
   ]
  },
  {
   "cell_type": "code",
   "execution_count": 12,
   "id": "33e1c537-8d71-4cff-ad64-71d2ee1e5ebd",
   "metadata": {},
   "outputs": [],
   "source": [
    "# A function that writes a User Prompt that asks for summaries of websites:\n",
    "\n",
    "def user_prompt_for(website):\n",
    "    user_prompt = f\"You are looking at a website titled {website.title}\"\n",
    "    user_prompt += \"The contents of this website is as follows; \\\n",
    "please provide a short summary of this website in markdown. \\\n",
    "If it includes news or announcements, then summarize these too.\\n\\n\"\n",
    "    user_prompt += website.text\n",
    "    return user_prompt"
   ]
  },
  {
   "cell_type": "code",
   "execution_count": 13,
   "id": "96d01dfe-5942-4b02-96f8-ffd07879f7b7",
   "metadata": {},
   "outputs": [],
   "source": [
    "# See how this function creates exactly the format above\n",
    "\n",
    "def messages_for(website):\n",
    "    return [\n",
    "        {\"role\": \"system\", \"content\": system_prompt},\n",
    "        {\"role\": \"user\", \"content\": user_prompt_for(website)}\n",
    "    ]"
   ]
  },
  {
   "cell_type": "code",
   "execution_count": 14,
   "id": "d11381f7-ba42-4ec6-8cd0-757c10c330c6",
   "metadata": {},
   "outputs": [],
   "source": [
    "# And now: call the Ollama function instead of OpenAI\n",
    "\n",
    "def summarize(url):\n",
    "    website = Website(url)\n",
    "    messages = messages_for(website)\n",
    "    response = ollama.chat(model=MODEL, messages=messages)\n",
    "    return response['message']['content']"
   ]
  },
  {
   "cell_type": "code",
   "execution_count": 16,
   "id": "fb2b2b03-fb54-49cf-9c26-0239d8904242",
   "metadata": {},
   "outputs": [
    {
     "data": {
      "text/plain": [
       "\"# Summary of Azure AI Foundry Documentation\\n\\n### Overview\\n\\nAzure AI Foundry is a platform that enables safely designing, customizing, and managing AI applications and agents at scale.\\n\\n### Key Features\\n\\n* **Azure OpenAI Service**: A service in Azure AI Foundry that provides access to OpenAI's models.\\n* **Retrieval Augmented Generation (RAG)**: A technique for generating text based on retrieval from a large database of text.\\n* **Model Deployment Options**: Allows users to deploy models in various ways, such as using the Azure AI SDK or building custom chat apps.\\n\\n### Getting Started\\n\\n* **Quickstart**: A guided process to build a chat app using the Azure AI SDK.\\n* **How-To Guides**: Step-by-step guides for deploying and managing AI applications on Azure AI Foundry.\\n* **Azure AI Agent Service**: A service that enables users to create and manage AI agents.\\n\\n### Additional Resources\\n\\n* **Azure AI Training**: Offers training and resources for building and deploying machine learning models.\\n* **Vector Search in Azure AI Search**: A feature that enables fast search of vectors in large datasets.\\n* **Azure Machine Learning**: A platform for building, training, and deploying machine learning models.\""
      ]
     },
     "execution_count": 16,
     "metadata": {},
     "output_type": "execute_result"
    }
   ],
   "source": [
    "summarize(\"https://learn.microsoft.com/en-us/azure/ai-foundry/\")"
   ]
  },
  {
   "cell_type": "code",
   "execution_count": 18,
   "id": "08d8e01f-e609-406f-9635-a085394476ca",
   "metadata": {},
   "outputs": [],
   "source": [
    "# A function to display this nicely in the Jupyter output, using markdown\n",
    "\n",
    "def display_summary(url):\n",
    "    summary = summarize(url)\n",
    "    display(Markdown(summary))"
   ]
  },
  {
   "cell_type": "code",
   "execution_count": 19,
   "id": "521ebb20-34b3-4292-885f-1ea580075df9",
   "metadata": {},
   "outputs": [
    {
     "data": {
      "text/markdown": [
       "**Azure AI Foundry Documentation Summary**\n",
       "=====================================\n",
       "\n",
       "### Overview\n",
       "\n",
       "The Azure AI Foundry documentation provides an overview of the service, including its features and capabilities. It outlines how to design, customize, and manage AI applications and agents at scale.\n",
       "\n",
       "### Key Features and Topics\n",
       "\n",
       "* **Overview**: Learn about the Azure AI Foundry and its purpose.\n",
       "* **Azure OpenAI Service**: Understand how the Azure OpenAI Service is integrated into Azure AI Foundry.\n",
       "* **Model Deployment Options**: Discover available model deployment options for Azure AI Foundry.\n",
       "* **Evaluation and Monitoring Metrics**: Learn about metrics used to evaluate and monitor generative AI models.\n",
       "\n",
       "### Tutorials and Guides\n",
       "\n",
       "* **Quickstart**: Build a chat app in the playground using Azure AI SDK.\n",
       "* **How-To Guide**: Select and deploy models from the catalog, compare benchmarks across models and datasets.\n",
       "* **Azure AI Agent Service**: Understand how to work with the Azure AI Agent service.\n",
       "* **Tutorial**: Build a custom chat app with the Azure AI SDK.\n",
       "\n",
       "### Additional Resources\n",
       "\n",
       "* **Azure AI Foundry SDK**: Learn about the Azure AI Foundry SDKs.\n",
       "* **Training**: Explore AI training resources, including Azure AI Training and Vector search in Azure AI Search.\n",
       "* **Blog**: Discover blog posts related to Azure AI Foundry.\n",
       "\n",
       "### News and Announcements\n",
       "\n",
       "No explicit news or announcements are available on this website. However, it mentions that the previous versions of the documentation can be found by clicking on the \"Previous Versions\" link."
      ],
      "text/plain": [
       "<IPython.core.display.Markdown object>"
      ]
     },
     "metadata": {},
     "output_type": "display_data"
    }
   ],
   "source": [
    "display_summary(\"https://learn.microsoft.com/en-us/azure/ai-foundry/\")"
   ]
  },
  {
   "cell_type": "code",
   "execution_count": null,
   "id": "fcb2f7eb-baa6-4eaf-b1bd-beb337e033b8",
   "metadata": {},
   "outputs": [],
   "source": []
  }
 ],
 "metadata": {
  "kernelspec": {
   "display_name": "Python 3 (ipykernel)",
   "language": "python",
   "name": "python3"
  },
  "language_info": {
   "codemirror_mode": {
    "name": "ipython",
    "version": 3
   },
   "file_extension": ".py",
   "mimetype": "text/x-python",
   "name": "python",
   "nbconvert_exporter": "python",
   "pygments_lexer": "ipython3",
   "version": "3.11.11"
  }
 },
 "nbformat": 4,
 "nbformat_minor": 5
}

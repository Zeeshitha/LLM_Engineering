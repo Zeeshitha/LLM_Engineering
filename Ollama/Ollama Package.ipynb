{
 "cells": [
  {
   "cell_type": "code",
   "execution_count": 2,
   "id": "200f8de6-0331-4049-8479-7fdd57253c52",
   "metadata": {},
   "outputs": [
    {
     "name": "stdout",
     "output_type": "stream",
     "text": [
      "Generative AI has numerous business applications across various industries, including:\n",
      "\n",
      "1. **Content Generation**: Automate content creation for social media, blogs, and websites, reducing the need for human writers and editors.\n",
      "2. **Digital Marketing**: Use generative AI to create personalized product recommendations, email campaigns, and ads that resonate with target audiences.\n",
      "3. **Product Design and Development**: Leverage generative AI to design new products, such as cars, homes, or furniture, using computer-aided design (CAD) software.\n",
      "4. **Music and Audio Creation**: Generate music, sound effects, and voiceovers for videos, ads, and other media content.\n",
      "5. **Image and Video Editing**: Automate image and video editing tasks, such as photo retouching, object removal, and video stabilization.\n",
      "6. **Chatbots and Virtual Assistants**: Develop conversational AI systems that can understand and respond to customer inquiries, providing 24/7 support.\n",
      "7. **Predictive Maintenance**: Use generative AI to analyze sensor data and predict equipment failures, reducing downtime and increasing efficiency.\n",
      "8. **Supply Chain Optimization**: Generate scenarios and forecasts for supply chain management, helping companies optimize inventory levels, shipping routes, and logistics.\n",
      "9. **Financial Analysis and Modeling**: Develop predictive models that forecast stock prices, credit risk, and other financial metrics, enabling data-driven investment decisions.\n",
      "10. **Data Augmentation**: Use generative AI to generate new, synthetic data points for training machine learning models, reducing the need for manual data collection.\n",
      "\n",
      "Industry-specific applications:\n",
      "\n",
      "1. **Healthcare**: Generate medical reports, diagnose diseases, and develop personalized treatment plans using natural language processing (NLP) and computer vision.\n",
      "2. **Finance**: Create investment portfolios, predict stock prices, and analyze customer behavior using generative AI models.\n",
      "3. **Education**: Develop personalized learning platforms, create adaptive assessments, and generate educational content using NLP and machine learning.\n",
      "4. **Customer Service**: Use chatbots and virtual assistants to provide 24/7 support, answer common questions, and route complex issues to human representatives.\n",
      "\n",
      "These applications are just a few examples of the many ways Generative AI is transforming businesses and industries worldwide.\n"
     ]
    }
   ],
   "source": [
    "import ollama\n",
    "MODEL = \"llama3.2\"\n",
    "# Create a messages list using the same format that we used for OpenAI\n",
    "\n",
    "messages = [\n",
    "    {\"role\": \"user\", \"content\": \"Describe some of the business applications of Generative AI\"}\n",
    "]\n",
    "response = ollama.chat(model=MODEL, messages=messages)\n",
    "print(response['message']['content'])"
   ]
  },
  {
   "cell_type": "code",
   "execution_count": null,
   "id": "92164364-dd83-4fd4-a18b-df46a64bbb26",
   "metadata": {},
   "outputs": [],
   "source": []
  }
 ],
 "metadata": {
  "kernelspec": {
   "display_name": "Python 3 (ipykernel)",
   "language": "python",
   "name": "python3"
  },
  "language_info": {
   "codemirror_mode": {
    "name": "ipython",
    "version": 3
   },
   "file_extension": ".py",
   "mimetype": "text/x-python",
   "name": "python",
   "nbconvert_exporter": "python",
   "pygments_lexer": "ipython3",
   "version": "3.11.11"
  }
 },
 "nbformat": 4,
 "nbformat_minor": 5
}

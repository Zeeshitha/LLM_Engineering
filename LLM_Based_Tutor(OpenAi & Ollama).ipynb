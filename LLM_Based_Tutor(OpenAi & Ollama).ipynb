{
 "cells": [
  {
   "cell_type": "code",
   "execution_count": 1,
   "id": "c1070317-3ed9-4659-abe3-828943230e03",
   "metadata": {},
   "outputs": [],
   "source": [
    "# imports\n",
    "\n",
    "from dotenv import load_dotenv\n",
    "from IPython.display import Markdown, display, update_display\n",
    "from openai import OpenAI\n",
    "import ollama"
   ]
  },
  {
   "cell_type": "code",
   "execution_count": 2,
   "id": "4a456906-915a-4bfd-bb9d-57e505c5093f",
   "metadata": {},
   "outputs": [],
   "source": [
    "# constants\n",
    "\n",
    "MODEL_GPT = 'gpt-4o-mini'\n",
    "MODEL_LLAMA = 'llama3.2'"
   ]
  },
  {
   "cell_type": "code",
   "execution_count": 3,
   "id": "a8d7923c-5f28-4c30-8556-342d7c8497c1",
   "metadata": {},
   "outputs": [],
   "source": [
    "# set up environment\n",
    "\n",
    "load_dotenv()\n",
    "openai = OpenAI()\n"
   ]
  },
  {
   "cell_type": "code",
   "execution_count": 4,
   "id": "3f0d0137-52b0-47a8-81a8-11a90a010798",
   "metadata": {},
   "outputs": [],
   "source": [
    "# here is the question; type over this to ask something new\n",
    "\n",
    "question = \"\"\"\n",
    "Please explain what this code does and why:\n",
    "yield from {book.get(\"author\") for book in books if book.get(\"author\")}\n",
    "\"\"\""
   ]
  },
  {
   "cell_type": "code",
   "execution_count": 5,
   "id": "8595807b-8ae2-4e1b-95d9-e8532142e8bb",
   "metadata": {},
   "outputs": [],
   "source": [
    "# prompts\n",
    "\n",
    "system_prompt = \"You are a helpful technical tutor who answers questions about python code, software engineering, data science and LLMs\"\n",
    "user_prompt = \"Please give a detailed explanation to the following question: \" + question"
   ]
  },
  {
   "cell_type": "code",
   "execution_count": 6,
   "id": "9605cbb6-3d3f-4969-b420-7f4cae0b9328",
   "metadata": {},
   "outputs": [],
   "source": [
    "# messages\n",
    "\n",
    "messages = [\n",
    "    {\"role\": \"system\", \"content\": system_prompt},\n",
    "    {\"role\": \"user\", \"content\": user_prompt}\n",
    "]"
   ]
  },
  {
   "cell_type": "code",
   "execution_count": 7,
   "id": "60ce7000-a4a5-4cce-a261-e75ef45063b4",
   "metadata": {},
   "outputs": [
    {
     "data": {
      "text/markdown": [
       "Certainly! Let's break down the code you provided:\n",
       "\n",
       "python\n",
       "yield from {book.get(\"author\") for book in books if book.get(\"author\")}\n",
       "\n",
       "\n",
       "### Step-by-Step Explanation\n",
       "\n",
       "1. **Understanding the Context**:\n",
       "   - The code is likely part of a generator function since it uses the `yield` keyword. A generator is a special type of iterator that generates values on the fly and can be iterated over.\n",
       "   - The `yield from` expression is used to yield all values from an iterable. In this case, the iterable is a set comprehension.\n",
       "\n",
       "2. **Set Comprehension**:\n",
       "   - The part within the curly braces `{}` is a set comprehension, which is a concise way to create a set based on iterables. \n",
       "   - A set is a collection of unique elements, which means that any duplicates will be automatically removed.\n",
       "\n",
       "3. **Iterating Over `books`**:\n",
       "   - The variable `books` is expected to be an iterable, like a list, containing multiple elements (likely dictionaries in this context).\n",
       "   - Each `book` in `books` is assumed to be a dictionary that potentially has a key called \"author\".\n",
       "\n",
       "4. **Getting Authors**:\n",
       "   - `book.get(\"author\")`: This retrieves the value associated with the key \"author\" from each `book` dictionary. If the key does not exist, `get` would return `None` instead of raising a KeyError.\n",
       "   - `if book.get(\"author\")`: This filters the `books` to only include those books where the author is not `None`. Therefore, it filters out any books where the \"author\" key is either absent or contains a falsy value (like `None` or an empty string).\n",
       "\n",
       "5. **Creating a Set of Authors**:\n",
       "   - The result of the set comprehension is a set of unique authors extracted from the `books`. If multiple books have the same author, that author will appear only once in the resulting set.\n",
       "   - Example: If `books` had two books with the author \"Alice\", the set would only contain one instance of \"Alice\".\n",
       "\n",
       "6. **Yielding Authors**:\n",
       "   - The `yield from` part takes the set of unique authors produced by the set comprehension and yields each author one at a time as the generator is iterated over. This means when someone uses this generator, they will receive each unique author's name successively.\n",
       "\n",
       "### Why Use This Code?\n",
       "\n",
       "- **Efficiency**: Using a set comprehensions ensures that we only get unique authors without needing to manage duplicates manually. Sets inherently enforce uniqueness.\n",
       "- **Conciseness**: The use of inline filtering and comprehension reduces the amount of code and keeps it compact and readable.\n",
       "- **Generator Functionality**: Using `yield from` makes it easier to compose complex generators together, allowing the outer generator to yield values from other iterables seamlessly.\n",
       "\n",
       "### Example in Context\n",
       "\n",
       "Suppose you have a list of books like this:\n",
       "\n",
       "python\n",
       "books = [\n",
       "    {\"title\": \"Book 1\", \"author\": \"Alice\"},\n",
       "    {\"title\": \"Book 2\", \"author\": \"Bob\"},\n",
       "    {\"title\": \"Book 3\", \"author\": None},\n",
       "    {\"title\": \"Book 4\", \"author\": \"Alice\"},\n",
       "]\n",
       "\n",
       "\n",
       "If you incorporate the `yield from` line in a generator function, when you iterate over it:\n",
       "\n",
       "python\n",
       "def unique_authors(books):\n",
       "    yield from {book.get(\"author\") for book in books if book.get(\"author\")}\n",
       "\n",
       "for author in unique_authors(books):\n",
       "    print(author)\n",
       "\n",
       "\n",
       "The output would be:\n",
       "\n",
       "Alice\n",
       "Bob\n",
       "\n",
       "\n",
       "This demonstrates how the code functions to filter out authors properly, ensuring that duplicates are not included, which is particularly useful in applications where maintaining a unique list of entities is necessary."
      ],
      "text/plain": [
       "<IPython.core.display.Markdown object>"
      ]
     },
     "metadata": {},
     "output_type": "display_data"
    }
   ],
   "source": [
    "# Get gpt-4o-mini to answer, with streaming\n",
    "\n",
    "stream = openai.chat.completions.create(model=MODEL_GPT, messages=messages,stream=True)\n",
    "    \n",
    "response = \"\"\n",
    "display_handle = display(Markdown(\"\"), display_id=True)\n",
    "for chunk in stream:\n",
    "    response += chunk.choices[0].delta.content or ''\n",
    "    response = response.replace(\"```\",\"\").replace(\"markdown\", \"\")\n",
    "    update_display(Markdown(response), display_id=display_handle.display_id)"
   ]
  },
  {
   "cell_type": "code",
   "execution_count": 8,
   "id": "8f7c8ea8-4082-4ad0-8751-3301adcf6538",
   "metadata": {},
   "outputs": [
    {
     "data": {
      "text/markdown": [
       "**Code Explanation**\n",
       "\n",
       "The given code is using Python's generator syntax to extract author names from a list of dictionaries, where each dictionary represents a book with the key \"author\".\n",
       "\n",
       "```python\n",
       "yield from {book.get(\"author\") for book in books if book.get(\"author\")}\n",
       "```\n",
       "\n",
       "Let's break it down:\n",
       "\n",
       "1. **`for book in books`**: This is a loop that iterates over each item (`book`) in the `books` list.\n",
       "2. **`if book.get(\"author\")`**: Before processing the current book, this condition checks if the book dictionary has a key called \"author\". If it does not exist (i.e., `book.get(\"author\")` returns `None` or an empty string), the loop skips to the next iteration.\n",
       "3. **`{book.get(\"author\") for book in books if book.get(\"author\")}`**: This is a dictionary comprehension that extracts the author's name from each book dictionary where the \"author\" key exists.\n",
       "\n",
       "The resulting list of authors will be used as an iterator, which means it yields one author at a time, allowing for more memory-efficient processing than loading all authors into memory simultaneously.\n",
       "\n",
       "**How Yield From Works**\n",
       "\n",
       "Now, let's dive into how `yield from` works in this context:\n",
       "\n",
       "*   When we use the `yield from` keyword inside a generator function or a list comprehension (like `{...}`), it turns the expression inside the brackets into another generator.\n",
       "*   The inner generator is executed on each iteration of the outer loop, yielding its own values to the surrounding scope.\n",
       "\n",
       "In our case, when the code reaches the end of an iteration, `yield from` takes over and starts producing author names. This allows us to process the authors without loading them all into memory at once, making it more efficient for large lists.\n",
       "\n",
       "**Example Use Case**\n",
       "\n",
       "Here's a complete example that demonstrates how this code could be used:\n",
       "\n",
       "```python\n",
       "# Sample books data\n",
       "books = [\n",
       "    {\"title\": \"Book 1\", \"author\": \"Author A\"},\n",
       "    {\"title\": \"Book 2\", \"author\": None},\n",
       "    {\"title\": \"Book 3\", \"author\": \"Author C\"}\n",
       "]\n",
       "\n",
       "# Extracting authors using generator expression\n",
       "authors = yield from {book.get(\"author\") for book in books if book.get(\"author\")}\n",
       "\n",
       "for author in authors:\n",
       "    print(author)\n",
       "```\n",
       "\n",
       "This example will output:\n",
       "\n",
       "```\n",
       "Author A\n",
       "Author C\n",
       "```\n",
       "\n",
       "Because the list comprehension uses `yield from`, only one book's \"author\" information is processed at a time, making it memory-efficient."
      ],
      "text/plain": [
       "<IPython.core.display.Markdown object>"
      ]
     },
     "metadata": {},
     "output_type": "display_data"
    }
   ],
   "source": [
    "# Get Llama 3.2 to answer\n",
    "\n",
    "response = ollama.chat(model=MODEL_LLAMA, messages=messages)\n",
    "reply = response['message']['content']\n",
    "display(Markdown(reply))"
   ]
  },
  
  {
   "cell_type": "code",
   "execution_count": null,
   "id": "da663d73-dd2a-4fff-84df-2209cf2b330b",
   "metadata": {},
   "outputs": [],
   "source": []
  }
 ],
 "metadata": {
  "kernelspec": {
   "display_name": "Python 3 (ipykernel)",
   "language": "python",
   "name": "python3"
  },
  "language_info": {
   "codemirror_mode": {
    "name": "ipython",
    "version": 3
   },
   "file_extension": ".py",
   "mimetype": "text/x-python",
   "name": "python",
   "nbconvert_exporter": "python",
   "pygments_lexer": "ipython3",
   "version": "3.11.11"
  }
 },
 "nbformat": 4,
 "nbformat_minor": 5
}
